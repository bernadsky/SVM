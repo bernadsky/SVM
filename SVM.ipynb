{
 "cells": [
  {
   "cell_type": "markdown",
   "metadata": {},
   "source": [
    "# SVM (linear kernel)"
   ]
  },
  {
   "cell_type": "markdown",
   "metadata": {},
   "source": [
    "- Loss function: hinge loss\n",
    "- Optimization algorithm: stochastic gradient descent\n",
    "- Demo dataset: breast_cancer from sklearn.datasets"
   ]
  },
  {
   "cell_type": "code",
   "execution_count": 361,
   "metadata": {
    "collapsed": false
   },
   "outputs": [],
   "source": [
    "import numpy as np\n",
    "import matplotlib.pyplot as plt\n",
    "import seaborn as sn\n",
    "from sklearn.preprocessing import normalize\n",
    "%matplotlib inline\n",
    "\n",
    "class SVM_Classifier():\n",
    "    # This class has two main methods: fit() and predict()\n",
    "    \n",
    "    def __init__(self):\n",
    "        self.W = None\n",
    "        self.scaling = None\n",
    "    \n",
    "    def hinge_loss(self, y_real, X, W, lmbd): \n",
    "        # loss function\n",
    "        m = X.shape[0]\n",
    "        n = X.shape[1]\n",
    "        \n",
    "        h = X.dot(W)\n",
    "\n",
    "        hloss_map = map(lambda x: 0. if x>=1 else 1.-x, y_real*h)\n",
    "        hloss_total = np.sum(hloss_map) + lmbd * np.sum(map(lambda x: x**2, W)) / n\n",
    "        \n",
    "        return hloss_total\n",
    "    \n",
    "    def scale(self, X):\n",
    "        return normalize(X)\n",
    "    \n",
    "    def fit(self, X, y, alpha=0.005, lmbd=0.1, nsteps=3000, random_state=10, scaling=False,\n",
    "            dynamic_lmbd=True, random_init=False):\n",
    "        ##############################################\n",
    "        # train a model by using given data X and y  #\n",
    "        ##############################################\n",
    "        # alpha - learning rate\n",
    "        # lmbd - regularization coefficient\n",
    "        # nsteps - number of iterations (epochs)\n",
    "        # random_state - for random weight initialization\n",
    "        # scaling - if True then normalize X\n",
    "        # dynamic_lmbd - change regularization coefficient while train a model\n",
    "        # random_init if True then use random weight initialization\n",
    "        \n",
    "        np.random.seed(random_state)\n",
    "        \n",
    "        if scaling:\n",
    "            X = self.scale(X)\n",
    "            self.scaling = True\n",
    "            \n",
    "        if random_init:\n",
    "            self.W = np.random.rand(X.shape[1])\n",
    "        else:\n",
    "            self.W = np.zeros(X.shape[1])\n",
    "        \n",
    "        errors = []\n",
    "        \n",
    "        for i in range(1, nsteps+1):\n",
    "            \n",
    "            if dynamic_lmbd:\n",
    "                lmbd = 1. / i\n",
    "\n",
    "            # make a gradient-descent step\n",
    "            # update weights\n",
    "\n",
    "            for j in range(y.shape[0]):\n",
    "                if (y[j]*np.dot(X[j], self.W)) < 1:\n",
    "                    self.W = self.W - alpha*(2. * lmbd * self.W - y[j] * X[j])\n",
    "                else:\n",
    "                    self.W = self.W - alpha*(2. * lmbd * self.W)\n",
    "\n",
    "            # J = let's compute cost function\n",
    "            J = self.hinge_loss(y, X, self.W, lmbd)\n",
    "            errors.append(J)\n",
    "       \n",
    "        return self.W, errors\n",
    "    \n",
    "    def predict(self, X):\n",
    "        if self.scaling:\n",
    "            return np.dot(self.scale(X), self.W)\n",
    "        else:\n",
    "            return np.dot(X, self.W)"
   ]
  },
  {
   "cell_type": "markdown",
   "metadata": {},
   "source": [
    "# Let's build and test SVM Classifier"
   ]
  },
  {
   "cell_type": "code",
   "execution_count": 362,
   "metadata": {
    "collapsed": false
   },
   "outputs": [
    {
     "name": "stdout",
     "output_type": "stream",
     "text": [
      "F1:\t\t0.960698689956\n",
      "RECALL:\t\t0.982142857143\n",
      "PRECISION:\t0.940170940171\n"
     ]
    }
   ],
   "source": [
    "from sklearn.datasets import load_breast_cancer\n",
    "from sklearn.cross_validation import train_test_split\n",
    "from sklearn.metrics import f1_score, recall_score, precision_score\n",
    "\n",
    "data = load_breast_cancer()\n",
    "X = data['data']\n",
    "y = data['target']\n",
    "y[y==0] = -1\n",
    "\n",
    "# Train-Test split\n",
    "X_train, X_test, y_train, y_test = train_test_split(X, y, test_size=0.3)\n",
    "\n",
    "# Build a model\n",
    "svm = SVM_Classifier()\n",
    "W, errors = svm.fit(X_train, y_train, alpha=0.01, nsteps=200)\n",
    "\n",
    "# Test\n",
    "y_pred = svm.predict(X_test)\n",
    "y_pred[y_pred >= 0] = 1\n",
    "y_pred[y_pred < 0] = 0\n",
    "y_test[y_test == -1] = 0\n",
    "\n",
    "print 'F1:\\t\\t', f1_score(y_test, y_pred)\n",
    "print 'RECALL:\\t\\t', recall_score(y_test, y_pred)\n",
    "print 'PRECISION:\\t', precision_score(y_test, y_pred)"
   ]
  },
  {
   "cell_type": "markdown",
   "metadata": {},
   "source": [
    "# How fast error is decreasing?"
   ]
  },
  {
   "cell_type": "code",
   "execution_count": 363,
   "metadata": {
    "collapsed": false
   },
   "outputs": [
    {
     "data": {
      "text/plain": [
       "<matplotlib.text.Text at 0x16bb1a20>"
      ]
     },
     "execution_count": 363,
     "metadata": {},
     "output_type": "execute_result"
    },
    {
     "data": {
      "image/png": "[encoded data removed]",
      "text/plain": [
       "<matplotlib.figure.Figure at 0x16e45438>"
      ]
     },
     "metadata": {},
     "output_type": "display_data"
    }
   ],
   "source": [
    "plt.plot([x for x in range(len(errors))], errors)\n",
    "plt.xlabel('Epoch')\n",
    "plt.ylabel('Hinge Loss')"
   ]
  },
  {
   "cell_type": "markdown",
   "metadata": {},
   "source": [
    "# How many False Negatives and False Positives?"
   ]
  },
  {
   "cell_type": "code",
   "execution_count": 379,
   "metadata": {
    "collapsed": false
   },
   "outputs": [
    {
     "name": "stdout",
     "output_type": "stream",
     "text": [
      "FP: 7\n",
      "FN: 2\n",
      "TP: 110\n",
      "TN: 52\n"
     ]
    }
   ],
   "source": [
    "tn, fp, fn, tp = confusion_matrix(y_test, y_pred).ravel()\n",
    "print \"FP:\", fp\n",
    "print \"FN:\", fn\n",
    "print \"TP:\", tp\n",
    "print \"TN:\", tn"
   ]
  },
  {
   "cell_type": "code",
   "execution_count": 366,
   "metadata": {
    "collapsed": false
   },
   "outputs": [
    {
     "data": {
      "text/plain": [
       "<matplotlib.collections.PathCollection at 0x17b6aef0>"
      ]
     },
     "execution_count": 366,
     "metadata": {},
     "output_type": "execute_result"
    },
    {
     "data": {
      "image/png": "[encoded data removed]",
      "text/plain": [
       "<matplotlib.figure.Figure at 0x16c88ba8>"
      ]
     },
     "metadata": {},
     "output_type": "display_data"
    }
   ],
   "source": [
    "from sklearn.decomposition import PCA\n",
    "\n",
    "pca = PCA(2)\n",
    "x = pca.fit_transform(X_test)\n",
    "class_0, class_1, fn, fp = [], [], [], []\n",
    "\n",
    "for j in range(len(y_test)):\n",
    "    \n",
    "    if y_test[j] == 1:\n",
    "        class_1.append(x[j])\n",
    "        if y_pred[j] != 1:\n",
    "            fn.append(x[j])\n",
    "    else:\n",
    "        class_0.append(x[j])\n",
    "        if y_pred[j] == 1:\n",
    "            fp.append(x[j])\n",
    "\n",
    "class_0 = np.array(class_0)\n",
    "class_1 = np.array(class_1)\n",
    "fn = np.array(fn)\n",
    "fp = np.array(fp)\n",
    "\n",
    "plt.figure(figsize=(12,8))\n",
    "plt.scatter(class_0[:, 0], class_0[:, 1], color='green')\n",
    "plt.scatter(class_1[:, 0], class_1[:, 1], color='black')\n",
    "plt.scatter(fn[:, 0], fn[:, 1], color='red', s=30)\n",
    "plt.scatter(fp[:, 0], fp[:, 1], color='yellow', s=30)"
   ]
  },
  {
   "cell_type": "markdown",
   "metadata": {},
   "source": [
    "- Red: False Negatives\n",
    "- Yellow: False Positives\n",
    "- Black: positives\n",
    "- Green: negatives"
   ]
  }
 ],
 "metadata": {
  "anaconda-cloud": {},
  "kernelspec": {
   "display_name": "Python [Root]",
   "language": "python",
   "name": "Python [Root]"
  },
  "language_info": {
   "codemirror_mode": {
    "name": "ipython",
    "version": 2
   },
   "file_extension": ".py",
   "mimetype": "text/x-python",
   "name": "python",
   "nbconvert_exporter": "python",
   "pygments_lexer": "ipython2",
   "version": "2.7.12"
  }
 },
 "nbformat": 4,
 "nbformat_minor": 0
}
